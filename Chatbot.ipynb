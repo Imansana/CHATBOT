{
  "nbformat": 4,
  "nbformat_minor": 0,
  "metadata": {
    "colab": {
      "provenance": []
    },
    "kernelspec": {
      "name": "python3",
      "display_name": "Python 3"
    },
    "language_info": {
      "name": "python"
    }
  },
  "cells": [
    {
      "cell_type": "code",
      "execution_count": 1,
      "metadata": {
        "colab": {
          "base_uri": "https://localhost:8080/"
        },
        "id": "r0o_XDGxKZXK",
        "outputId": "5442b084-3610-4a72-dbed-93bd5540d304"
      },
      "outputs": [
        {
          "output_type": "stream",
          "name": "stdout",
          "text": [
            "Chatbot: Hi! I'm a simple chatbot,I'm here to assist you!\n",
            "Me: hello\n",
            "Chatbot: Hello! How can I help you today?\n",
            "Me: what is your name\n",
            "Chatbot: I'm just a chatbot,so I don't have a name, but you can call me ChatBot.\n",
            "Me: where are you from\n",
            "Chatbot: I'm from the digital world,always ready to chat!\n",
            "Me: bye\n",
            "Chatbot: Goodbye! Have a great day!\n"
          ]
        }
      ],
      "source": [
        "data={\n",
        "    \"hi\":\"Hi there! I'm a friendly chatbot here to assist you?\",\n",
        "    \"hello\":\"Hello! How can I help you today?\",\n",
        "    \"what is your name\":\"I'm just a chatbot,so I don't have a name, but you can call me ChatBot.\",\n",
        "    \"where are you from\":\"I'm from the digital world,always ready to chat!\",\n",
        "    \"how are you\":\"I'm just a chatbot,but I'm here to assist you.\",\n",
        "    \"do you have any hobbies or interests?\":\"I'm always busy helping users, so my hobby is chatting with people like you!\",\n",
        "    \"what did you eat today?\":\"I don't eat,but I can help you find delicious recipes and food-related information.\",\n",
        "    \"what's your favorite color?\":\"I'm a chatbot,so I don't have personal preferences for colors.\",\n",
        "    \"do you enjoy listening to music?\":\"I can't listen to music,but I'm here to chat about it!\",\n",
        "    \"bye\":\"Bye! Take care and have a great day!\",\n",
        "}\n",
        "def get_response(user_input):\n",
        "    for pattern,response in data.items():\n",
        "        if pattern in user_input:\n",
        "            return response\n",
        "    return \"I'm sorry,I didn't understand that.Can you please rephrase your sentence?\"\n",
        "print(\"Chatbot: Hi! I'm a simple chatbot,I'm here to assist you!\")\n",
        "while True:\n",
        "    user_input=input(\"Me: \")\n",
        "    if user_input=='bye':\n",
        "       print(\"Chatbot: Goodbye! Have a great day!\")\n",
        "       break\n",
        "    response=get_response(user_input)\n",
        "    print(\"Chatbot:\",response)\n",
        ""
      ]
    }
  ]
}